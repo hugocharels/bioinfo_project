{
 "cells": [
  {
   "cell_type": "code",
   "execution_count": 4,
   "id": "fc8fcb70-c467-44ba-a393-2775ae1ac736",
   "metadata": {
    "scrolled": true
   },
   "outputs": [],
   "source": [
    "import numpy as np\n",
    "import torch\n",
    "import torch.nn as nn\n",
    "import numpy as np\n",
    "from torch.utils.data import Dataset, DataLoader\n",
    "from sklearn.metrics import accuracy_score\n",
    "\n",
    "from model import DeepLocModel"
   ]
  },
  {
   "cell_type": "markdown",
   "id": "38342b0a-c41e-4b2b-bcad-a860afa8753e",
   "metadata": {},
   "source": [
    "# Load Dataset"
   ]
  },
  {
   "cell_type": "code",
   "execution_count": 5,
   "id": "754366f0-b2df-4846-b00c-224398a05c42",
   "metadata": {},
   "outputs": [],
   "source": [
    "class NPZProteinDataset(Dataset):\n",
    "    def __init__(self, X, y):\n",
    "        self.X = torch.tensor(X, dtype=torch.float32)\n",
    "        self.y = torch.tensor(y, dtype=torch.long)\n",
    "\n",
    "    def __len__(self):\n",
    "        return len(self.X)\n",
    "\n",
    "    def __getitem__(self, idx):\n",
    "        return self.X[idx], self.y[idx]\n",
    "\n",
    "# Load npz data\n",
    "train_data = np.load(\"data/train.npz\")\n",
    "test_data = np.load(\"data/test.npz\")\n",
    "\n",
    "X_train, y_train, partition = train_data['X_train'], train_data['y_train'], train_data['partition']\n",
    "X_test, y_test = test_data['X_test'], test_data['y_test']\n",
    "\n",
    "# Use fold 1 as validation\n",
    "val_idx = np.where(partition == 1)\n",
    "train_idx = np.where(partition != 1)\n",
    "\n",
    "X_tr, y_tr = X_train[train_idx], y_train[train_idx]\n",
    "X_val, y_val = X_train[val_idx], y_train[val_idx]\n",
    "\n",
    "train_ds = NPZProteinDataset(X_tr, y_tr)\n",
    "val_ds = NPZProteinDataset(X_val, y_val)\n",
    "test_ds = NPZProteinDataset(X_test, y_test)\n",
    "\n",
    "train_loader = DataLoader(train_ds, batch_size=64, shuffle=True)\n",
    "val_loader = DataLoader(val_ds, batch_size=64)\n",
    "test_loader = DataLoader(test_ds, batch_size=64)"
   ]
  },
  {
   "cell_type": "markdown",
   "id": "13f9705a-956a-415d-b94e-399141c0be84",
   "metadata": {},
   "source": [
    "# Train loop"
   ]
  },
  {
   "cell_type": "code",
   "execution_count": 6,
   "id": "63672eaa-6445-457b-b263-cdda693b6e3e",
   "metadata": {},
   "outputs": [
    {
     "name": "stdout",
     "output_type": "stream",
     "text": [
      "Epoch 1, Loss: 115.7823, Validation Accuracy: 0.2362\n",
      "Epoch 2, Loss: 111.0356, Validation Accuracy: 0.2940\n",
      "Epoch 3, Loss: 107.5380, Validation Accuracy: 0.3132\n",
      "Epoch 4, Loss: 101.1856, Validation Accuracy: 0.3760\n",
      "Epoch 5, Loss: 92.2991, Validation Accuracy: 0.4523\n",
      "Epoch 6, Loss: 88.0138, Validation Accuracy: 0.4791\n",
      "Epoch 7, Loss: 81.6988, Validation Accuracy: 0.5101\n",
      "Epoch 8, Loss: 74.4502, Validation Accuracy: 0.5318\n",
      "Epoch 9, Loss: 75.7256, Validation Accuracy: 0.5193\n",
      "Epoch 10, Loss: 71.0244, Validation Accuracy: 0.5553\n"
     ]
    }
   ],
   "source": [
    "device = torch.device(\"cuda\" if torch.cuda.is_available() else \"cpu\")\n",
    "model = DeepLocModel(input_dim=X_train.shape[2]).to(device)\n",
    "optimizer = torch.optim.Adam(model.parameters(), lr=5e-4)\n",
    "criterion = nn.CrossEntropyLoss()\n",
    "\n",
    "for epoch in range(10):\n",
    "    model.train()\n",
    "    total_loss = 0\n",
    "    for x, y in train_loader:\n",
    "        x, y = x.to(device), y.to(device)\n",
    "        optimizer.zero_grad()\n",
    "        pred = model(x)\n",
    "        loss = criterion(pred, y)\n",
    "        loss.backward()\n",
    "        optimizer.step()\n",
    "        total_loss += loss.item()\n",
    "\n",
    "    # Evaluate\n",
    "    model.eval()\n",
    "    y_true, y_pred = [], []\n",
    "    with torch.no_grad():\n",
    "        for x, y in val_loader:\n",
    "            x = x.to(device)\n",
    "            outputs = model(x)\n",
    "            preds = outputs.argmax(dim=1).cpu()\n",
    "            y_pred.extend(preds.numpy())\n",
    "            y_true.extend(y.numpy())\n",
    "    acc = accuracy_score(y_true, y_pred)\n",
    "    print(f\"Epoch {epoch+1}, Loss: {total_loss:.4f}, Validation Accuracy: {acc:.4f}\")"
   ]
  },
  {
   "cell_type": "markdown",
   "id": "3536abf4-9525-433a-951c-9c91284cbfd3",
   "metadata": {},
   "source": [
    "# Final Test Evaluation"
   ]
  },
  {
   "cell_type": "code",
   "execution_count": 7,
   "id": "4eb7e8b4-a5a2-4452-950f-348d6843be17",
   "metadata": {},
   "outputs": [
    {
     "name": "stdout",
     "output_type": "stream",
     "text": [
      "Final Test Accuracy: 0.5582\n"
     ]
    }
   ],
   "source": [
    "y_true, y_pred = [], []\n",
    "model.eval()\n",
    "with torch.no_grad():\n",
    "    for x, y in test_loader:\n",
    "        x = x.to(device)\n",
    "        outputs = model(x)\n",
    "        preds = outputs.argmax(dim=1).cpu()\n",
    "        y_pred.extend(preds.numpy())\n",
    "        y_true.extend(y.numpy())\n",
    "\n",
    "acc = accuracy_score(y_true, y_pred)\n",
    "print(f\"Final Test Accuracy: {acc:.4f}\")"
   ]
  },
  {
   "cell_type": "code",
   "execution_count": null,
   "id": "4c8485bc-d9e3-4642-89e1-f14462ae1d51",
   "metadata": {},
   "outputs": [],
   "source": []
  }
 ],
 "metadata": {
  "kernelspec": {
   "display_name": "Python 3 (ipykernel)",
   "language": "python",
   "name": "python3"
  },
  "language_info": {
   "codemirror_mode": {
    "name": "ipython",
    "version": 3
   },
   "file_extension": ".py",
   "mimetype": "text/x-python",
   "name": "python",
   "nbconvert_exporter": "python",
   "pygments_lexer": "ipython3",
   "version": "3.12.7"
  }
 },
 "nbformat": 4,
 "nbformat_minor": 5
}
